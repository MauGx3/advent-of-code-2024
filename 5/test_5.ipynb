{
    "cells": [
        {
            "cell_type": "code",
            "execution_count": 5,
            "id": "test-imports",
            "metadata": {},
            "outputs": [],
            "source": [
                "import unittest"
            ]
        },
        {
            "cell_type": "code",
            "execution_count": 6,
            "id": "91d73a51",
            "metadata": {},
            "outputs": [],
            "source": [
                "def find_middle(lst):\n",
                "    if not lst:  # Check if the list is empty\n",
                "        return False\n",
                "\n",
                "    length = len(lst)  # Get the length of the list\n",
                "\n",
                "    if length % 2 != 0:  # Check if the length is odd\n",
                "        middle_index = length // 2\n",
                "        return lst[middle_index]\n",
                "\n",
                "    # If the length is even\n",
                "    first_middle_index = length // 2 - 1\n",
                "    second_middle_index = length // 2\n",
                "    return (lst[first_middle_index], lst[second_middle_index])"
            ]
        },
        {
            "cell_type": "code",
            "execution_count": 7,
            "id": "test-find-middle",
            "metadata": {},
            "outputs": [
                {
                    "name": "stderr",
                    "output_type": "stream",
                    "text": [
                        ".....\n",
                        "----------------------------------------------------------------------\n",
                        "Ran 5 tests in 0.004s\n",
                        "\n",
                        "OK\n"
                    ]
                }
            ],
            "source": [
                "class TestFindMiddle(unittest.TestCase):\n",
                "    def test_empty_list(self):\n",
                "        self.assertFalse(find_middle([]))\n",
                "\n",
                "    def test_single_element_list(self):\n",
                "        self.assertEqual(find_middle([1]), 1)\n",
                "\n",
                "    def test_odd_length_list(self):\n",
                "        self.assertEqual(find_middle([1, 2, 3]), 2)\n",
                "\n",
                "    def test_even_length_list(self):\n",
                "        self.assertEqual(find_middle([1, 2, 3, 4]), (2, 3))\n",
                "\n",
                "    def test_even_length_list_with_strings(self):\n",
                "        self.assertEqual(find_middle(['a', 'b', 'c', 'd']), ('b', 'c'))\n",
                "\n",
                "if __name__ == '__main__':\n",
                "    unittest.main(argv=[''], exit=False)"
            ]
        }
    ],
    "metadata": {
        "kernelspec": {
            "display_name": ".venv",
            "language": "python",
            "name": "python3"
        },
        "language_info": {
            "codemirror_mode": {
                "name": "ipython",
                "version": 3
            },
            "file_extension": ".py",
            "mimetype": "text/x-python",
            "name": "python",
            "nbconvert_exporter": "python",
            "pygments_lexer": "ipython3",
            "version": "3.12.8"
        }
    },
    "nbformat": 4,
    "nbformat_minor": 5
}
